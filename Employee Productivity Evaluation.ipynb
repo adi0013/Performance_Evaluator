{
 "cells": [
  {
   "cell_type": "markdown",
   "id": "1f8ac245",
   "metadata": {},
   "source": [
    "day : Day of the Week\n",
    "quarter : A portion of the month. A month was divided into four quarters\n",
    "department : Associated department with the instance\n",
    "team_no : Associated team number with the instance\n",
    "no_of_workers : Number of workers in each team\n",
    "no_of_style_change : Number of changes in the style of a particular product\n",
    "targeted_productivity : Targeted productivity set by the Authority for each team for each day.\n",
    "smv : Standard Minute Value, it is the allocated time for a task\n",
    "wip : Work in progress. Includes the number of unfinished items for products\n",
    "over_time : Represents the amount of overtime by each team in minutes\n",
    "incentive : Represents the amount of financial incentive (in BDT) that enables or motivates a particular course of action.\n",
    "idle_time : The amount of time when the production was interrupted due to several reasons\n",
    "idle_men : The number of workers who were idle due to production interruption\n",
    "actual_productivity : The actual % of productivity that was delivered by the workers. It ranges from 0-1."
   ]
  },
  {
   "cell_type": "code",
   "execution_count": 1,
   "id": "61791854",
   "metadata": {},
   "outputs": [],
   "source": [
    "import pandas as pd \n",
    "import numpy as np\n",
    "from sklearn.model_selection import train_test_split,GridSearchCV\n",
    "from sklearn.ensemble import RandomForestRegressor,HistGradientBoostingRegressor\n",
    "from sklearn.impute import SimpleImputer"
   ]
  },
  {
   "cell_type": "code",
   "execution_count": 2,
   "id": "bc100f66",
   "metadata": {
    "collapsed": true
   },
   "outputs": [
    {
     "name": "stdout",
     "output_type": "stream",
     "text": [
      "<class 'pandas.core.frame.DataFrame'>\n",
      "RangeIndex: 1017 entries, 0 to 1016\n",
      "Data columns (total 26 columns):\n",
      " #   Column                 Non-Null Count  Dtype  \n",
      "---  ------                 --------------  -----  \n",
      " 0   team                   1017 non-null   int64  \n",
      " 1   targeted_productivity  1017 non-null   float64\n",
      " 2   smv                    1017 non-null   float64\n",
      " 3   wip                    594 non-null    float64\n",
      " 4   over_time              1017 non-null   int64  \n",
      " 5   incentive              1017 non-null   int64  \n",
      " 6   idle_time              1017 non-null   float64\n",
      " 7   idle_men               1017 non-null   int64  \n",
      " 8   no_of_style_change     1017 non-null   int64  \n",
      " 9   no_of_workers          1017 non-null   float64\n",
      " 10  month                  1017 non-null   int64  \n",
      " 11  quarter_Quarter1       1017 non-null   int64  \n",
      " 12  quarter_Quarter2       1017 non-null   int64  \n",
      " 13  quarter_Quarter3       1017 non-null   int64  \n",
      " 14  quarter_Quarter4       1017 non-null   int64  \n",
      " 15  quarter_Quarter5       1017 non-null   int64  \n",
      " 16  department_finishing   1017 non-null   int64  \n",
      " 17  department_finishing   1017 non-null   int64  \n",
      " 18  department_sweing      1017 non-null   int64  \n",
      " 19  day_Monday             1017 non-null   int64  \n",
      " 20  day_Saturday           1017 non-null   int64  \n",
      " 21  day_Sunday             1017 non-null   int64  \n",
      " 22  day_Thursday           1017 non-null   int64  \n",
      " 23  day_Tuesday            1017 non-null   int64  \n",
      " 24  day_Wednesday          1017 non-null   int64  \n",
      " 25  actual_productivity    1017 non-null   float64\n",
      "dtypes: float64(6), int64(20)\n",
      "memory usage: 206.7 KB\n"
     ]
    }
   ],
   "source": [
    "train_data = pd.read_csv('train_dataset.csv')\n",
    "train_data.info()"
   ]
  },
  {
   "cell_type": "code",
   "execution_count": 3,
   "id": "28c1d813",
   "metadata": {
    "scrolled": false
   },
   "outputs": [
    {
     "data": {
      "text/plain": [
       "team                       0\n",
       "targeted_productivity      0\n",
       "smv                        0\n",
       "wip                      423\n",
       "over_time                  0\n",
       "incentive                  0\n",
       "idle_time                  0\n",
       "idle_men                   0\n",
       "no_of_style_change         0\n",
       "no_of_workers              0\n",
       "month                      0\n",
       "quarter_Quarter1           0\n",
       "quarter_Quarter2           0\n",
       "quarter_Quarter3           0\n",
       "quarter_Quarter4           0\n",
       "quarter_Quarter5           0\n",
       "department_finishing       0\n",
       "department_finishing       0\n",
       "department_sweing          0\n",
       "day_Monday                 0\n",
       "day_Saturday               0\n",
       "day_Sunday                 0\n",
       "day_Thursday               0\n",
       "day_Tuesday                0\n",
       "day_Wednesday              0\n",
       "actual_productivity        0\n",
       "dtype: int64"
      ]
     },
     "execution_count": 3,
     "metadata": {},
     "output_type": "execute_result"
    }
   ],
   "source": [
    "train_data.isna().sum()"
   ]
  },
  {
   "cell_type": "code",
   "execution_count": 4,
   "id": "7a0f83ac",
   "metadata": {},
   "outputs": [],
   "source": [
    "train_data['wip']=train_data['wip'].fillna(train_data['wip'].mean())"
   ]
  },
  {
   "cell_type": "code",
   "execution_count": 5,
   "id": "c882aa72",
   "metadata": {},
   "outputs": [
    {
     "data": {
      "text/plain": [
       "team                     0\n",
       "targeted_productivity    0\n",
       "smv                      0\n",
       "wip                      0\n",
       "over_time                0\n",
       "incentive                0\n",
       "idle_time                0\n",
       "idle_men                 0\n",
       "no_of_style_change       0\n",
       "no_of_workers            0\n",
       "month                    0\n",
       "quarter_Quarter1         0\n",
       "quarter_Quarter2         0\n",
       "quarter_Quarter3         0\n",
       "quarter_Quarter4         0\n",
       "quarter_Quarter5         0\n",
       "department_finishing     0\n",
       "department_finishing     0\n",
       "department_sweing        0\n",
       "day_Monday               0\n",
       "day_Saturday             0\n",
       "day_Sunday               0\n",
       "day_Thursday             0\n",
       "day_Tuesday              0\n",
       "day_Wednesday            0\n",
       "actual_productivity      0\n",
       "dtype: int64"
      ]
     },
     "execution_count": 5,
     "metadata": {},
     "output_type": "execute_result"
    }
   ],
   "source": [
    "train_data.isna().sum()"
   ]
  },
  {
   "cell_type": "code",
   "execution_count": 6,
   "id": "b4a299e0",
   "metadata": {},
   "outputs": [
    {
     "name": "stdout",
     "output_type": "stream",
     "text": [
      "                    index  actual_productivity\n",
      "25    actual_productivity             1.000000\n",
      "1   targeted_productivity             0.401069\n",
      "17  department_finishing              0.143885\n",
      "15       quarter_Quarter5             0.119284\n",
      "3                     wip             0.087362\n",
      "11       quarter_Quarter1             0.082608\n",
      "5               incentive             0.074926\n",
      "20           day_Saturday             0.045212\n",
      "23            day_Tuesday             0.035301\n",
      "12       quarter_Quarter2             0.020185\n",
      "19             day_Monday            -0.004186\n",
      "24          day_Wednesday            -0.020523\n",
      "21             day_Sunday            -0.024243\n",
      "22           day_Thursday            -0.029730\n",
      "4               over_time            -0.033712\n",
      "16   department_finishing            -0.045173\n",
      "9           no_of_workers            -0.053273\n",
      "6               idle_time            -0.058365\n",
      "18      department_sweing            -0.083030\n",
      "13       quarter_Quarter3            -0.086748\n",
      "14       quarter_Quarter4            -0.089900\n",
      "10                  month            -0.113675\n",
      "2                     smv            -0.126243\n",
      "0                    team            -0.155700\n",
      "7                idle_men            -0.186789\n",
      "8      no_of_style_change            -0.217396\n"
     ]
    }
   ],
   "source": [
    "corr = train_data.corr()\n",
    "\n",
    "print(corr['actual_productivity'].reset_index().sort_values(by='actual_productivity',ascending=False))\n"
   ]
  },
  {
   "cell_type": "code",
   "execution_count": null,
   "id": "566a4969",
   "metadata": {},
   "outputs": [],
   "source": []
  },
  {
   "cell_type": "code",
   "execution_count": 7,
   "id": "390b85ca",
   "metadata": {},
   "outputs": [],
   "source": [
    "X= train_data.iloc[:,[0,1,2,3,7,8,10,15,17]] \n",
    "y= train_data['actual_productivity']"
   ]
  },
  {
   "cell_type": "code",
   "execution_count": 8,
   "id": "f7f2a041",
   "metadata": {},
   "outputs": [],
   "source": [
    "X_train,x_test,y_train,y_test = train_test_split(X,y,test_size=0.3,random_state=42)"
   ]
  },
  {
   "cell_type": "code",
   "execution_count": 9,
   "id": "01df1152",
   "metadata": {},
   "outputs": [],
   "source": [
    "# # Create an instance of SimpleImputer to impute missing values\n",
    "# imputer = SimpleImputer(strategy='mean')\n",
    "\n",
    "# # Fit the imputer to the training data and transform the training data\n",
    "# X_train_imputed = imputer.fit_transform(X_train)\n",
    "\n",
    "# # Transform the test data using the trained imputer\n",
    "# X_test_imputed = imputer.transform(x_test)\n",
    "# X_train_imputed.isna().sum()"
   ]
  },
  {
   "cell_type": "raw",
   "id": "94d282ad",
   "metadata": {},
   "source": [
    "26                  Ratio             0.562822\n",
    "1   targeted_productivity             0.401069\n",
    "17  department_finishing              0.143885\n",
    "3                     wip             0.129666\n",
    "15       quarter_Quarter5             0.119284\n",
    "10                  month            -0.113675\n",
    "2                     smv            -0.126243\n",
    "0                    team            -0.155700\n",
    "7                idle_men            -0.186789\n",
    "8      no_of_style_change            -0.217396\n",
    "\n",
    "0,1,2,3,7,8,10,15,17,26\n",
    "team,targeted_productivity,smv,wip,idle_men,no_of_style_change,month,quarter_Quarter5,department_finishing"
   ]
  },
  {
   "cell_type": "code",
   "execution_count": 29,
   "id": "12f33188",
   "metadata": {},
   "outputs": [
    {
     "name": "stdout",
     "output_type": "stream",
     "text": [
      "Best Parameters: {'criterion': 'squared_error', 'min_samples_leaf': 3, 'min_samples_split': 2, 'n_estimators': 100}\n",
      "Best Score: -0.017977701397973965\n"
     ]
    }
   ],
   "source": [
    "# Define the parameter grid for GridSearchCV\n",
    "\n",
    "\n",
    "# Create an instance of the Random Forest regressor\n",
    "rf = RandomForestRegressor(random_state=42)\n",
    "\n",
    "# Create an instance of GridSearchCV\n",
    "\n",
    "# Fit the GridSearchCV object to the training data\n",
    "rf.fit(X_train, y_train)\n",
    "param_grid = {\n",
    "    'n_estimators': [100, 200, 300],\n",
    "    'min_samples_split': [2,3,4,5],\n",
    "    'min_samples_leaf': [1, 2, 3],\n",
    "    'criterion': ['squared_error', 'absolute_error']}\n",
    "\n",
    "# Create an instance of GridSearchCV\n",
    "grid_search = GridSearchCV(estimator=rf, param_grid=param_grid, cv=10, scoring='neg_mean_squared_error')\n",
    "\n",
    "# Fit the grid search to the imputed training data\n",
    "grid_search.fit(X_train, y_train)\n",
    "\n",
    "# Get the best parameters and best score\n",
    "best_params = grid_search.best_params_\n",
    "best_score = grid_search.best_score_\n",
    "\n",
    "print('Best Parameters:', best_params)\n",
    "print('Best Score:', best_score)\n",
    "\n"
   ]
  },
  {
   "cell_type": "code",
   "execution_count": 11,
   "id": "42793d94",
   "metadata": {},
   "outputs": [],
   "source": [
    "# test_data = pd.read_csv('test_dataset.csv')\n",
    "# x_test= train_data.iloc[:,[0,1,2,3,7,8,10,15,17]] \n",
    "# y_test = test_data['actual_productivity']"
   ]
  },
  {
   "cell_type": "code",
   "execution_count": 30,
   "id": "b383b67b",
   "metadata": {},
   "outputs": [
    {
     "name": "stdout",
     "output_type": "stream",
     "text": [
      "31.11294231955526\n"
     ]
    }
   ],
   "source": [
    "from sklearn.metrics import r2_score\n",
    "y_pred = grid_search.predict(x_test)\n",
    "r2 = r2_score(y_test,y_pred)\n",
    "print(r2*100)"
   ]
  },
  {
   "cell_type": "code",
   "execution_count": 31,
   "id": "fc3dc98c",
   "metadata": {},
   "outputs": [
    {
     "data": {
      "text/plain": [
       "['rf_grid.joblib']"
      ]
     },
     "execution_count": 31,
     "metadata": {},
     "output_type": "execute_result"
    }
   ],
   "source": [
    "from joblib import dump,load\n",
    "dump(grid_search,'rf_grid.joblib')"
   ]
  },
  {
   "cell_type": "code",
   "execution_count": 32,
   "id": "f8a893fb",
   "metadata": {},
   "outputs": [
    {
     "name": "stdout",
     "output_type": "stream",
     "text": [
      "<class 'pandas.core.frame.DataFrame'>\n",
      "Int64Index: 711 entries, 810 to 102\n",
      "Data columns (total 9 columns):\n",
      " #   Column                 Non-Null Count  Dtype  \n",
      "---  ------                 --------------  -----  \n",
      " 0   team                   711 non-null    int64  \n",
      " 1   targeted_productivity  711 non-null    float64\n",
      " 2   smv                    711 non-null    float64\n",
      " 3   wip                    711 non-null    float64\n",
      " 4   idle_men               711 non-null    int64  \n",
      " 5   no_of_style_change     711 non-null    int64  \n",
      " 6   month                  711 non-null    int64  \n",
      " 7   quarter_Quarter5       711 non-null    int64  \n",
      " 8   department_finishing   711 non-null    int64  \n",
      "dtypes: float64(3), int64(6)\n",
      "memory usage: 55.5 KB\n"
     ]
    }
   ],
   "source": [
    "X_train.info()"
   ]
  },
  {
   "cell_type": "code",
   "execution_count": 39,
   "id": "6aa27f69",
   "metadata": {
    "scrolled": false
   },
   "outputs": [
    {
     "data": {
      "text/html": [
       "<style>#sk-container-id-3 {color: black;background-color: white;}#sk-container-id-3 pre{padding: 0;}#sk-container-id-3 div.sk-toggleable {background-color: white;}#sk-container-id-3 label.sk-toggleable__label {cursor: pointer;display: block;width: 100%;margin-bottom: 0;padding: 0.3em;box-sizing: border-box;text-align: center;}#sk-container-id-3 label.sk-toggleable__label-arrow:before {content: \"▸\";float: left;margin-right: 0.25em;color: #696969;}#sk-container-id-3 label.sk-toggleable__label-arrow:hover:before {color: black;}#sk-container-id-3 div.sk-estimator:hover label.sk-toggleable__label-arrow:before {color: black;}#sk-container-id-3 div.sk-toggleable__content {max-height: 0;max-width: 0;overflow: hidden;text-align: left;background-color: #f0f8ff;}#sk-container-id-3 div.sk-toggleable__content pre {margin: 0.2em;color: black;border-radius: 0.25em;background-color: #f0f8ff;}#sk-container-id-3 input.sk-toggleable__control:checked~div.sk-toggleable__content {max-height: 200px;max-width: 100%;overflow: auto;}#sk-container-id-3 input.sk-toggleable__control:checked~label.sk-toggleable__label-arrow:before {content: \"▾\";}#sk-container-id-3 div.sk-estimator input.sk-toggleable__control:checked~label.sk-toggleable__label {background-color: #d4ebff;}#sk-container-id-3 div.sk-label input.sk-toggleable__control:checked~label.sk-toggleable__label {background-color: #d4ebff;}#sk-container-id-3 input.sk-hidden--visually {border: 0;clip: rect(1px 1px 1px 1px);clip: rect(1px, 1px, 1px, 1px);height: 1px;margin: -1px;overflow: hidden;padding: 0;position: absolute;width: 1px;}#sk-container-id-3 div.sk-estimator {font-family: monospace;background-color: #f0f8ff;border: 1px dotted black;border-radius: 0.25em;box-sizing: border-box;margin-bottom: 0.5em;}#sk-container-id-3 div.sk-estimator:hover {background-color: #d4ebff;}#sk-container-id-3 div.sk-parallel-item::after {content: \"\";width: 100%;border-bottom: 1px solid gray;flex-grow: 1;}#sk-container-id-3 div.sk-label:hover label.sk-toggleable__label {background-color: #d4ebff;}#sk-container-id-3 div.sk-serial::before {content: \"\";position: absolute;border-left: 1px solid gray;box-sizing: border-box;top: 0;bottom: 0;left: 50%;z-index: 0;}#sk-container-id-3 div.sk-serial {display: flex;flex-direction: column;align-items: center;background-color: white;padding-right: 0.2em;padding-left: 0.2em;position: relative;}#sk-container-id-3 div.sk-item {position: relative;z-index: 1;}#sk-container-id-3 div.sk-parallel {display: flex;align-items: stretch;justify-content: center;background-color: white;position: relative;}#sk-container-id-3 div.sk-item::before, #sk-container-id-3 div.sk-parallel-item::before {content: \"\";position: absolute;border-left: 1px solid gray;box-sizing: border-box;top: 0;bottom: 0;left: 50%;z-index: -1;}#sk-container-id-3 div.sk-parallel-item {display: flex;flex-direction: column;z-index: 1;position: relative;background-color: white;}#sk-container-id-3 div.sk-parallel-item:first-child::after {align-self: flex-end;width: 50%;}#sk-container-id-3 div.sk-parallel-item:last-child::after {align-self: flex-start;width: 50%;}#sk-container-id-3 div.sk-parallel-item:only-child::after {width: 0;}#sk-container-id-3 div.sk-dashed-wrapped {border: 1px dashed gray;margin: 0 0.4em 0.5em 0.4em;box-sizing: border-box;padding-bottom: 0.4em;background-color: white;}#sk-container-id-3 div.sk-label label {font-family: monospace;font-weight: bold;display: inline-block;line-height: 1.2em;}#sk-container-id-3 div.sk-label-container {text-align: center;}#sk-container-id-3 div.sk-container {/* jupyter's `normalize.less` sets `[hidden] { display: none; }` but bootstrap.min.css set `[hidden] { display: none !important; }` so we also need the `!important` here to be able to override the default hidden behavior on the sphinx rendered scikit-learn.org. See: https://github.com/scikit-learn/scikit-learn/issues/21755 */display: inline-block !important;position: relative;}#sk-container-id-3 div.sk-text-repr-fallback {display: none;}</style><div id=\"sk-container-id-3\" class=\"sk-top-container\"><div class=\"sk-text-repr-fallback\"><pre>HistGradientBoostingRegressor()</pre><b>In a Jupyter environment, please rerun this cell to show the HTML representation or trust the notebook. <br />On GitHub, the HTML representation is unable to render, please try loading this page with nbviewer.org.</b></div><div class=\"sk-container\" hidden><div class=\"sk-item\"><div class=\"sk-estimator sk-toggleable\"><input class=\"sk-toggleable__control sk-hidden--visually\" id=\"sk-estimator-id-3\" type=\"checkbox\" checked><label for=\"sk-estimator-id-3\" class=\"sk-toggleable__label sk-toggleable__label-arrow\">HistGradientBoostingRegressor</label><div class=\"sk-toggleable__content\"><pre>HistGradientBoostingRegressor()</pre></div></div></div></div></div>"
      ],
      "text/plain": [
       "HistGradientBoostingRegressor()"
      ]
     },
     "execution_count": 39,
     "metadata": {},
     "output_type": "execute_result"
    }
   ],
   "source": [
    "from sklearn.ensemble import HistGradientBoostingRegressor\n",
    "Hgr = HistGradientBoostingRegressor()\n",
    "\n",
    "Hgr.fit(X_train,y_train)"
   ]
  },
  {
   "cell_type": "code",
   "execution_count": 49,
   "id": "5ba6d714",
   "metadata": {},
   "outputs": [
    {
     "name": "stdout",
     "output_type": "stream",
     "text": [
      "R2 for HistGradientBoostingRegressor\t:  0.6724136851313154\n"
     ]
    }
   ],
   "source": [
    "Hgr_y_pred = Hgr.predict(X_train)\n",
    "R2HGr=r2_score(y_train, Hgr_y_pred)\n",
    "print('R2 for HistGradientBoostingRegressor\t: ', R2HGr)"
   ]
  },
  {
   "cell_type": "code",
   "execution_count": 50,
   "id": "055fea3b",
   "metadata": {
    "scrolled": true
   },
   "outputs": [
    {
     "data": {
      "text/plain": [
       "['Hgr_model.joblib']"
      ]
     },
     "execution_count": 50,
     "metadata": {},
     "output_type": "execute_result"
    }
   ],
   "source": [
    "dump(Hgr,'Hgr_model.joblib')"
   ]
  },
  {
   "cell_type": "code",
   "execution_count": null,
   "id": "8f3e908a",
   "metadata": {},
   "outputs": [],
   "source": [
    "import gradio as gr\n",
    "import pandas as pd\n",
    "import joblib\n",
    "\n",
    "# Load the pre-trained model\n",
    "model = joblib.load('Hgr_model.joblib')\n",
    "\n",
    "# Define the prediction function\n",
    "def predict_performance(team, targeted_productivity, smv, wip, idle_men, no_of_style_change, month, quarter_Quarter5, department_finishing):\n",
    "    input_data = pd.DataFrame([[team, targeted_productivity, smv, wip, idle_men, no_of_style_change, month, quarter_Quarter5, department_finishing]], columns=selected_features)\n",
    "    prediction = model.predict(input_data)[0]\n",
    "    return prediction*100\n",
    "\n",
    "# Define the selected features in the specified sequence\n",
    "selected_features = ['Team No.', 'Targeted Productivity(0 to 1)', 'Standard Minute Value(in min)', 'Tasks in progress(count)', 'Idle men(0/1)', 'No. of Style Change(count)', 'month', 'Is Quarter 5 ?(1/0)', 'Is This final stage Department?(0/1)']\n",
    "\n",
    "# Create the input and output interfaces\n",
    "inputs = [gr.inputs.Number(label=feature_name) for feature_name in selected_features]\n",
    "output = gr.outputs.Textbox(label='Actual Productivity')\n",
    "\n",
    "# Create the Gradio interface\n",
    "interface = gr.Interface(fn=predict_performance, inputs=inputs, outputs=output, title='Employee Performance Prediction')\n",
    "\n",
    "# Run the interface\n",
    "interface.launch(share=True)\n"
   ]
  }
 ],
 "metadata": {
  "kernelspec": {
   "display_name": "Python 3 (ipykernel)",
   "language": "python",
   "name": "python3"
  },
  "language_info": {
   "codemirror_mode": {
    "name": "ipython",
    "version": 3
   },
   "file_extension": ".py",
   "mimetype": "text/x-python",
   "name": "python",
   "nbconvert_exporter": "python",
   "pygments_lexer": "ipython3",
   "version": "3.10.4"
  }
 },
 "nbformat": 4,
 "nbformat_minor": 5
}
